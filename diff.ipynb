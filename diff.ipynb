{
 "cells": [
  {
   "cell_type": "code",
   "execution_count": 1,
   "id": "5d669a19",
   "metadata": {},
   "outputs": [],
   "source": [
    "import json, sqlite3, pandas as pd,pprint, numpy as np\n",
    "from diff_funcs import highlight_diff,load_dict,show_diff,drop_non_diff_rows,show_diff_all,show_diff_one,matching_cols,col_test\n",
    "from IPython.display import display\n"
   ]
  },
  {
   "cell_type": "code",
   "execution_count": 2,
   "id": "12c4310d",
   "metadata": {},
   "outputs": [
    {
     "name": "stdout",
     "output_type": "stream",
     "text": [
      "raey year       88.888889\n",
      "count()     0.000000\n",
      "dtype: float64 <class 'pandas.core.series.Series'>\n",
      "count year        0.000000\n",
      "count()    94.444444\n",
      "dtype: float64 <class 'pandas.core.series.Series'>\n"
     ]
    }
   ],
   "source": [
    "    q2_key = \"{\\\"year\\\":{\\\"0\\\":2012,\\\"1\\\":2018,\\\"2\\\":2017,\\\"3\\\":2016,\\\"4\\\":2010,\\\"5\\\":2009,\\\"6\\\":2020,\\\"7\\\":2015,\\\"8\\\":2014,\\\"9\\\":2011,\\\"10\\\":2019,\\\"11\\\":2008,\\\"12\\\":2007,\\\"13\\\":2006,\\\"14\\\":2003,\\\"15\\\":1996,\\\"16\\\":1989,\\\"17\\\":1988},\\\"count()\\\":{\\\"0\\\":6,\\\"1\\\":5,\\\"2\\\":3,\\\"3\\\":3,\\\"4\\\":3,\\\"5\\\":3,\\\"6\\\":2,\\\"7\\\":2,\\\"8\\\":2,\\\"9\\\":2,\\\"10\\\":1,\\\"11\\\":1,\\\"12\\\":1,\\\"13\\\":1,\\\"14\\\":1,\\\"15\\\":1,\\\"16\\\":1,\\\"17\\\":1}}\"\n",
    "    q2_student = \"{\\\"raey\\\":{\\\"0\\\":2013,\\\"1\\\":2018,\\\"2\\\":2017,\\\"3\\\":2016,\\\"4\\\":2010,\\\"5\\\":2019,\\\"6\\\":2020,\\\"7\\\":2015,\\\"8\\\":2014,\\\"9\\\":2011,\\\"10\\\":2019,\\\"11\\\":2008,\\\"12\\\":2007,\\\"13\\\":2006,\\\"14\\\":2003,\\\"15\\\":1996,\\\"16\\\":1989,\\\"17\\\":1988},\\\"count\\\":{\\\"0\\\":7,\\\"1\\\":5,\\\"2\\\":3,\\\"3\\\":3,\\\"4\\\":3,\\\"5\\\":3,\\\"6\\\":2,\\\"7\\\":2,\\\"8\\\":2,\\\"9\\\":2,\\\"10\\\":1,\\\"11\\\":1,\\\"12\\\":1,\\\"13\\\":1,\\\"14\\\":1,\\\"15\\\":1,\\\"16\\\":1,\\\"17\\\":1}}\"\n",
    "    df = pd.read_json(q2_key)\n",
    "    df2 = pd.read_json(q2_student)\n",
    "    matching_cols(df,df2)"
   ]
  },
  {
   "cell_type": "code",
   "execution_count": 3,
   "id": "e4a07dbc",
   "metadata": {},
   "outputs": [],
   "source": [
    "student_dict = load_dict('student_dict-2021-08-25.json')\n",
    "answer_dict = load_dict('a_answers.json')"
   ]
  },
  {
   "cell_type": "code",
   "execution_count": 4,
   "id": "2131c354",
   "metadata": {},
   "outputs": [],
   "source": [
    "def terminal(student_dict={},answer_dict={}):\n",
    "    while(True):\n",
    "        if not student_dict:\n",
    "            student_dict_f = input('Enter the file or file path of the student dict JSON')\n",
    "            student_dict = load_dict(student_dict_f)\n",
    "        if not answer_dict:\n",
    "            answer_dict_f = input('Enter the file or file path of the answer  dict JSON')\n",
    "            answer_dict = load_dict(answer_dict_f)\n",
    "        print('Enter 1 to view the diff of all students')\n",
    "        print('Enter 2 to view the diff of a particular student')\n",
    "        print('Enter e to quit')\n",
    "        choice = input('Input: ')\n",
    "        if 'e' in choice.lower():\n",
    "            break\n",
    "        choice = int(choice)\n",
    "        only_diff = input('Show only rows that are different? (y/n): ')\n",
    "        drop_same = True if 'y' in only_diff.lower() else False\n",
    "        if choice == 1:\n",
    "            show_diff_all(student_dict,answer_dict,drop_same=drop_same)\n",
    "        if choice == 2:\n",
    "            ccid = input('Enter the ccid to display the diff for: ')\n",
    "            show_diff_one(ccid,student_dict,answer_dict,drop_same=True,check_points=True)"
   ]
  },
  {
   "cell_type": "code",
   "execution_count": 5,
   "id": "5334c71b",
   "metadata": {},
   "outputs": [
    {
     "name": "stdout",
     "output_type": "stream",
     "text": [
      "Enter 1 to view the diff of all students\n",
      "Enter 2 to view the diff of a particular student\n",
      "Enter e to quit\n"
     ]
    },
    {
     "ename": "ValueError",
     "evalue": "invalid literal for int() with base 10: ''",
     "output_type": "error",
     "traceback": [
      "\u001B[1;31m---------------------------------------------------------------------------\u001B[0m",
      "\u001B[1;31mValueError\u001B[0m                                Traceback (most recent call last)",
      "\u001B[1;32m<ipython-input-5-c552c0940779>\u001B[0m in \u001B[0;36m<module>\u001B[1;34m\u001B[0m\n\u001B[1;32m----> 1\u001B[1;33m \u001B[0mterminal\u001B[0m\u001B[1;33m(\u001B[0m\u001B[0mstudent_dict\u001B[0m\u001B[1;33m=\u001B[0m\u001B[0mstudent_dict\u001B[0m\u001B[1;33m,\u001B[0m\u001B[0manswer_dict\u001B[0m\u001B[1;33m=\u001B[0m\u001B[0manswer_dict\u001B[0m\u001B[1;33m)\u001B[0m\u001B[1;33m\u001B[0m\u001B[1;33m\u001B[0m\u001B[0m\n\u001B[0m\u001B[0;32m      2\u001B[0m \u001B[1;33m\u001B[0m\u001B[0m\n",
      "\u001B[1;32m<ipython-input-4-6e7081f377d1>\u001B[0m in \u001B[0;36mterminal\u001B[1;34m(student_dict, answer_dict)\u001B[0m\n\u001B[0;32m     13\u001B[0m         \u001B[1;32mif\u001B[0m \u001B[1;34m'e'\u001B[0m \u001B[1;32min\u001B[0m \u001B[0mchoice\u001B[0m\u001B[1;33m.\u001B[0m\u001B[0mlower\u001B[0m\u001B[1;33m(\u001B[0m\u001B[1;33m)\u001B[0m\u001B[1;33m:\u001B[0m\u001B[1;33m\u001B[0m\u001B[1;33m\u001B[0m\u001B[0m\n\u001B[0;32m     14\u001B[0m             \u001B[1;32mbreak\u001B[0m\u001B[1;33m\u001B[0m\u001B[1;33m\u001B[0m\u001B[0m\n\u001B[1;32m---> 15\u001B[1;33m         \u001B[0mchoice\u001B[0m \u001B[1;33m=\u001B[0m \u001B[0mint\u001B[0m\u001B[1;33m(\u001B[0m\u001B[0mchoice\u001B[0m\u001B[1;33m)\u001B[0m\u001B[1;33m\u001B[0m\u001B[1;33m\u001B[0m\u001B[0m\n\u001B[0m\u001B[0;32m     16\u001B[0m         \u001B[0monly_diff\u001B[0m \u001B[1;33m=\u001B[0m \u001B[0minput\u001B[0m\u001B[1;33m(\u001B[0m\u001B[1;34m'Show only rows that are different? (y/n): '\u001B[0m\u001B[1;33m)\u001B[0m\u001B[1;33m\u001B[0m\u001B[1;33m\u001B[0m\u001B[0m\n\u001B[0;32m     17\u001B[0m         \u001B[0mdrop_same\u001B[0m \u001B[1;33m=\u001B[0m \u001B[1;32mTrue\u001B[0m \u001B[1;32mif\u001B[0m \u001B[1;34m'y'\u001B[0m \u001B[1;32min\u001B[0m \u001B[0monly_diff\u001B[0m\u001B[1;33m.\u001B[0m\u001B[0mlower\u001B[0m\u001B[1;33m(\u001B[0m\u001B[1;33m)\u001B[0m \u001B[1;32melse\u001B[0m \u001B[1;32mFalse\u001B[0m\u001B[1;33m\u001B[0m\u001B[1;33m\u001B[0m\u001B[0m\n",
      "\u001B[1;31mValueError\u001B[0m: invalid literal for int() with base 10: ''"
     ]
    }
   ],
   "source": [
    "terminal(student_dict=student_dict,answer_dict=answer_dict)"
   ]
  },
  {
   "cell_type": "code",
   "execution_count": null,
   "id": "0598bb08",
   "metadata": {},
   "outputs": [],
   "source": []
  }
 ],
 "metadata": {
  "kernelspec": {
   "display_name": "Python 3",
   "language": "python",
   "name": "python3"
  },
  "language_info": {
   "codemirror_mode": {
    "name": "ipython",
    "version": 3
   },
   "file_extension": ".py",
   "mimetype": "text/x-python",
   "name": "python",
   "nbconvert_exporter": "python",
   "pygments_lexer": "ipython3",
   "version": "3.9.1"
  }
 },
 "nbformat": 4,
 "nbformat_minor": 5
}