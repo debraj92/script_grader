{
 "cells": [
  {
   "cell_type": "code",
   "execution_count": 6,
   "id": "5d669a19",
   "metadata": {},
   "outputs": [],
   "source": [
    "import json, sqlite3, pandas as pd,pprint, numpy as np\n",
    "from diff_funcs import highlight_diff,load_dict,show_diff,drop_non_diff_rows,show_diff_all,show_diff_one,matching_cols,col_test\n",
    "from IPython.display import display\n"
   ]
  },
  {
   "cell_type": "code",
   "execution_count": 7,
   "id": "12c4310d",
   "metadata": {},
   "outputs": [
    {
     "name": "stdout",
     "output_type": "stream",
     "text": [
      "raey year       88.888889\n",
      "count()     0.000000\n",
      "dtype: float64 <class 'pandas.core.series.Series'>\n",
      "count year        0.000000\n",
      "count()    94.444444\n",
      "dtype: float64 <class 'pandas.core.series.Series'>\n"
     ]
    }
   ],
   "source": [
    "    q2_key = \"{\\\"year\\\":{\\\"0\\\":2012,\\\"1\\\":2018,\\\"2\\\":2017,\\\"3\\\":2016,\\\"4\\\":2010,\\\"5\\\":2009,\\\"6\\\":2020,\\\"7\\\":2015,\\\"8\\\":2014,\\\"9\\\":2011,\\\"10\\\":2019,\\\"11\\\":2008,\\\"12\\\":2007,\\\"13\\\":2006,\\\"14\\\":2003,\\\"15\\\":1996,\\\"16\\\":1989,\\\"17\\\":1988},\\\"count()\\\":{\\\"0\\\":6,\\\"1\\\":5,\\\"2\\\":3,\\\"3\\\":3,\\\"4\\\":3,\\\"5\\\":3,\\\"6\\\":2,\\\"7\\\":2,\\\"8\\\":2,\\\"9\\\":2,\\\"10\\\":1,\\\"11\\\":1,\\\"12\\\":1,\\\"13\\\":1,\\\"14\\\":1,\\\"15\\\":1,\\\"16\\\":1,\\\"17\\\":1}}\"\n",
    "    q2_student = \"{\\\"raey\\\":{\\\"0\\\":2013,\\\"1\\\":2018,\\\"2\\\":2017,\\\"3\\\":2016,\\\"4\\\":2010,\\\"5\\\":2019,\\\"6\\\":2020,\\\"7\\\":2015,\\\"8\\\":2014,\\\"9\\\":2011,\\\"10\\\":2019,\\\"11\\\":2008,\\\"12\\\":2007,\\\"13\\\":2006,\\\"14\\\":2003,\\\"15\\\":1996,\\\"16\\\":1989,\\\"17\\\":1988},\\\"count\\\":{\\\"0\\\":7,\\\"1\\\":5,\\\"2\\\":3,\\\"3\\\":3,\\\"4\\\":3,\\\"5\\\":3,\\\"6\\\":2,\\\"7\\\":2,\\\"8\\\":2,\\\"9\\\":2,\\\"10\\\":1,\\\"11\\\":1,\\\"12\\\":1,\\\"13\\\":1,\\\"14\\\":1,\\\"15\\\":1,\\\"16\\\":1,\\\"17\\\":1}}\"\n",
    "    df = pd.read_json(q2_key)\n",
    "    df2 = pd.read_json(q2_student)\n",
    "    matching_cols(df,df2)"
   ]
  },
  {
   "cell_type": "code",
   "execution_count": 8,
   "id": "e4a07dbc",
   "metadata": {},
   "outputs": [],
   "source": [
    "student_dict = load_dict('student_dict-2021-10-13.json')\n",
    "answer_dict = load_dict('c_answers.json')"
   ]
  },
  {
   "cell_type": "code",
   "execution_count": 9,
   "id": "2131c354",
   "metadata": {},
   "outputs": [],
   "source": [
    "def terminal(student_dict={},answer_dict={}):\n",
    "    while(True):\n",
    "        if not student_dict:\n",
    "            student_dict_f = input('Enter the file or file path of the student dict JSON')\n",
    "            student_dict = load_dict(student_dict_f)\n",
    "        if not answer_dict:\n",
    "            answer_dict_f = input('Enter the file or file path of the answer  dict JSON')\n",
    "            answer_dict = load_dict(answer_dict_f)\n",
    "        print('Enter 1 to view the diff of all students')\n",
    "        print('Enter 2 to view the diff of a particular student')\n",
    "        print('Enter e to quit')\n",
    "        choice = input('Input: ')\n",
    "        if 'e' in choice.lower():\n",
    "            break\n",
    "        choice = int(choice)\n",
    "        only_diff = input('Show only rows that are different? (y/n): ')\n",
    "        drop_same = True if 'y' in only_diff.lower() else False\n",
    "        if choice == 1:\n",
    "            show_diff_all(student_dict,answer_dict,drop_same=drop_same)\n",
    "        if choice == 2:\n",
    "            ccid = input('Enter the ccid to display the diff for: ')\n",
    "            show_diff_one(ccid,student_dict,answer_dict,drop_same=True,check_points=True)"
   ]
  },
  {
   "cell_type": "code",
   "execution_count": null,
   "id": "5334c71b",
   "metadata": {},
   "outputs": [
    {
     "name": "stdout",
     "output_type": "stream",
     "text": [
      "Enter 1 to view the diff of all students\n",
      "Enter 2 to view the diff of a particular student\n",
      "Enter e to quit\n",
      "Input: 1\n",
      "Show only rows that are different? (y/n): y\n",
      "////////~~~~~~~~~~~~~~~~hayatsul-1~~~~~~~~~~~~~~~~\\\\\\\\\\\\\\\\\n",
      "The student has been awarded the points,\n",
      "so the dataframes are equal\n",
      "////////~~~~~~~~~~~~~~~~hayatsul-2~~~~~~~~~~~~~~~~\\\\\\\\\\\\\\\\\n",
      "The student has been awarded the points,\n",
      "so the dataframes are equal\n",
      "////////~~~~~~~~~~~~~~~~hayatsul-3~~~~~~~~~~~~~~~~\\\\\\\\\\\\\\\\\n",
      "The student has been awarded the points,\n",
      "so the dataframes are equal\n",
      "////////~~~~~~~~~~~~~~~~ntabassu-1~~~~~~~~~~~~~~~~\\\\\\\\\\\\\\\\\n",
      "The student has been awarded the points,\n",
      "so the dataframes are equal\n",
      "////////~~~~~~~~~~~~~~~~ntabassu-2~~~~~~~~~~~~~~~~\\\\\\\\\\\\\\\\\n",
      "The student has been awarded the points,\n",
      "so the dataframes are equal\n",
      "////////~~~~~~~~~~~~~~~~ntabassu-3~~~~~~~~~~~~~~~~\\\\\\\\\\\\\\\\\n",
      "The student has been awarded the points,\n",
      "so the dataframes are equal\n",
      "////////~~~~~~~~~~~~~~~~kaiwen2-1~~~~~~~~~~~~~~~~\\\\\\\\\\\\\\\\\n",
      "The student has been awarded the points,\n",
      "so the dataframes are equal\n",
      "////////~~~~~~~~~~~~~~~~kaiwen2-2~~~~~~~~~~~~~~~~\\\\\\\\\\\\\\\\\n"
     ]
    },
    {
     "data": {
      "text/html": [
       "<style  type=\"text/css\" >\n",
       "#T_f799b_row0_col1,#T_f799b_row1_col1,#T_f799b_row2_col1,#T_f799b_row3_col0,#T_f799b_row3_col1,#T_f799b_row4_col0,#T_f799b_row4_col1,#T_f799b_row5_col0,#T_f799b_row5_col1{\n",
       "            background-color:  yellow;\n",
       "        }</style><table id=\"T_f799b_\" ><thead>    <tr>        <th class=\"blank level0\" ></th>        <th class=\"col_heading level0 col0\" colspan=\"2\">bid</th>    </tr>    <tr>        <th class=\"blank level1\" ></th>        <th class=\"col_heading level1 col0\" >Key</th>        <th class=\"col_heading level1 col1\" >Student</th>    </tr></thead><tbody>\n",
       "                <tr>\n",
       "                        <th id=\"T_f799b_level0_row0\" class=\"row_heading level0 row0\" >1</th>\n",
       "                        <td id=\"T_f799b_row0_col0\" class=\"data row0 col0\" >8.000000</td>\n",
       "                        <td id=\"T_f799b_row0_col1\" class=\"data row0 col1\" >2</td>\n",
       "            </tr>\n",
       "            <tr>\n",
       "                        <th id=\"T_f799b_level0_row1\" class=\"row_heading level0 row1\" >2</th>\n",
       "                        <td id=\"T_f799b_row1_col0\" class=\"data row1 col0\" >9.000000</td>\n",
       "                        <td id=\"T_f799b_row1_col1\" class=\"data row1 col1\" >3</td>\n",
       "            </tr>\n",
       "            <tr>\n",
       "                        <th id=\"T_f799b_level0_row2\" class=\"row_heading level0 row2\" >3</th>\n",
       "                        <td id=\"T_f799b_row2_col0\" class=\"data row2 col0\" >10.000000</td>\n",
       "                        <td id=\"T_f799b_row2_col1\" class=\"data row2 col1\" >6</td>\n",
       "            </tr>\n",
       "            <tr>\n",
       "                        <th id=\"T_f799b_level0_row3\" class=\"row_heading level0 row3\" >4</th>\n",
       "                        <td id=\"T_f799b_row3_col0\" class=\"data row3 col0\" >nan</td>\n",
       "                        <td id=\"T_f799b_row3_col1\" class=\"data row3 col1\" >8</td>\n",
       "            </tr>\n",
       "            <tr>\n",
       "                        <th id=\"T_f799b_level0_row4\" class=\"row_heading level0 row4\" >5</th>\n",
       "                        <td id=\"T_f799b_row4_col0\" class=\"data row4 col0\" >nan</td>\n",
       "                        <td id=\"T_f799b_row4_col1\" class=\"data row4 col1\" >9</td>\n",
       "            </tr>\n",
       "            <tr>\n",
       "                        <th id=\"T_f799b_level0_row5\" class=\"row_heading level0 row5\" >6</th>\n",
       "                        <td id=\"T_f799b_row5_col0\" class=\"data row5 col0\" >nan</td>\n",
       "                        <td id=\"T_f799b_row5_col1\" class=\"data row5 col1\" >10</td>\n",
       "            </tr>\n",
       "    </tbody></table>"
      ],
      "text/plain": [
       "<pandas.io.formats.style.Styler at 0x180667ea220>"
      ]
     },
     "metadata": {},
     "output_type": "display_data"
    },
    {
     "name": "stdout",
     "output_type": "stream",
     "text": [
      "////////~~~~~~~~~~~~~~~~kaiwen2-3~~~~~~~~~~~~~~~~\\\\\\\\\\\\\\\\\n",
      "The student has been awarded the points,\n",
      "so the dataframes are equal\n",
      "////////~~~~~~~~~~~~~~~~ronggang-1~~~~~~~~~~~~~~~~\\\\\\\\\\\\\\\\\n",
      "The student has been awarded the points,\n",
      "so the dataframes are equal\n",
      "////////~~~~~~~~~~~~~~~~ronggang-2~~~~~~~~~~~~~~~~\\\\\\\\\\\\\\\\\n",
      "The student has been awarded the points,\n",
      "so the dataframes are equal\n",
      "////////~~~~~~~~~~~~~~~~ronggang-3~~~~~~~~~~~~~~~~\\\\\\\\\\\\\\\\\n",
      "The student has been awarded the points,\n",
      "so the dataframes are equal\n",
      "////////~~~~~~~~~~~~~~~~zhengdao-1~~~~~~~~~~~~~~~~\\\\\\\\\\\\\\\\\n",
      "The student has been awarded the points,\n",
      "so the dataframes are equal\n",
      "////////~~~~~~~~~~~~~~~~zhengdao-2~~~~~~~~~~~~~~~~\\\\\\\\\\\\\\\\\n",
      "The student has been awarded the points,\n",
      "so the dataframes are equal\n",
      "////////~~~~~~~~~~~~~~~~zhengdao-3~~~~~~~~~~~~~~~~\\\\\\\\\\\\\\\\\n",
      "The student has been awarded the points,\n",
      "so the dataframes are equal\n",
      "Enter 1 to view the diff of all students\n",
      "Enter 2 to view the diff of a particular student\n",
      "Enter e to quit\n",
      "Input: 1\n",
      "Show only rows that are different? (y/n): n\n",
      "////////~~~~~~~~~~~~~~~~hayatsul-1~~~~~~~~~~~~~~~~\\\\\\\\\\\\\\\\\n",
      "The student has been awarded the points,\n",
      "so the dataframes are equal\n",
      "////////~~~~~~~~~~~~~~~~hayatsul-2~~~~~~~~~~~~~~~~\\\\\\\\\\\\\\\\\n",
      "The student has been awarded the points,\n",
      "so the dataframes are equal\n",
      "////////~~~~~~~~~~~~~~~~hayatsul-3~~~~~~~~~~~~~~~~\\\\\\\\\\\\\\\\\n",
      "The student has been awarded the points,\n",
      "so the dataframes are equal\n",
      "////////~~~~~~~~~~~~~~~~ntabassu-1~~~~~~~~~~~~~~~~\\\\\\\\\\\\\\\\\n",
      "The student has been awarded the points,\n",
      "so the dataframes are equal\n",
      "////////~~~~~~~~~~~~~~~~ntabassu-2~~~~~~~~~~~~~~~~\\\\\\\\\\\\\\\\\n",
      "The student has been awarded the points,\n",
      "so the dataframes are equal\n",
      "////////~~~~~~~~~~~~~~~~ntabassu-3~~~~~~~~~~~~~~~~\\\\\\\\\\\\\\\\\n",
      "The student has been awarded the points,\n",
      "so the dataframes are equal\n",
      "////////~~~~~~~~~~~~~~~~kaiwen2-1~~~~~~~~~~~~~~~~\\\\\\\\\\\\\\\\\n",
      "The student has been awarded the points,\n",
      "so the dataframes are equal\n",
      "////////~~~~~~~~~~~~~~~~kaiwen2-2~~~~~~~~~~~~~~~~\\\\\\\\\\\\\\\\\n"
     ]
    },
    {
     "data": {
      "text/html": [
       "<style  type=\"text/css\" >\n",
       "#T_c3bc3_row1_col1,#T_c3bc3_row2_col1,#T_c3bc3_row3_col1,#T_c3bc3_row4_col0,#T_c3bc3_row4_col1,#T_c3bc3_row5_col0,#T_c3bc3_row5_col1,#T_c3bc3_row6_col0,#T_c3bc3_row6_col1{\n",
       "            background-color:  yellow;\n",
       "        }</style><table id=\"T_c3bc3_\" ><thead>    <tr>        <th class=\"blank level0\" ></th>        <th class=\"col_heading level0 col0\" colspan=\"2\">bid</th>    </tr>    <tr>        <th class=\"blank level1\" ></th>        <th class=\"col_heading level1 col0\" >Key</th>        <th class=\"col_heading level1 col1\" >Student</th>    </tr></thead><tbody>\n",
       "                <tr>\n",
       "                        <th id=\"T_c3bc3_level0_row0\" class=\"row_heading level0 row0\" >0</th>\n",
       "                        <td id=\"T_c3bc3_row0_col0\" class=\"data row0 col0\" >1.000000</td>\n",
       "                        <td id=\"T_c3bc3_row0_col1\" class=\"data row0 col1\" >1</td>\n",
       "            </tr>\n",
       "            <tr>\n",
       "                        <th id=\"T_c3bc3_level0_row1\" class=\"row_heading level0 row1\" >1</th>\n",
       "                        <td id=\"T_c3bc3_row1_col0\" class=\"data row1 col0\" >8.000000</td>\n",
       "                        <td id=\"T_c3bc3_row1_col1\" class=\"data row1 col1\" >2</td>\n",
       "            </tr>\n",
       "            <tr>\n",
       "                        <th id=\"T_c3bc3_level0_row2\" class=\"row_heading level0 row2\" >2</th>\n",
       "                        <td id=\"T_c3bc3_row2_col0\" class=\"data row2 col0\" >9.000000</td>\n",
       "                        <td id=\"T_c3bc3_row2_col1\" class=\"data row2 col1\" >3</td>\n",
       "            </tr>\n",
       "            <tr>\n",
       "                        <th id=\"T_c3bc3_level0_row3\" class=\"row_heading level0 row3\" >3</th>\n",
       "                        <td id=\"T_c3bc3_row3_col0\" class=\"data row3 col0\" >10.000000</td>\n",
       "                        <td id=\"T_c3bc3_row3_col1\" class=\"data row3 col1\" >6</td>\n",
       "            </tr>\n",
       "            <tr>\n",
       "                        <th id=\"T_c3bc3_level0_row4\" class=\"row_heading level0 row4\" >4</th>\n",
       "                        <td id=\"T_c3bc3_row4_col0\" class=\"data row4 col0\" >nan</td>\n",
       "                        <td id=\"T_c3bc3_row4_col1\" class=\"data row4 col1\" >8</td>\n",
       "            </tr>\n",
       "            <tr>\n",
       "                        <th id=\"T_c3bc3_level0_row5\" class=\"row_heading level0 row5\" >5</th>\n",
       "                        <td id=\"T_c3bc3_row5_col0\" class=\"data row5 col0\" >nan</td>\n",
       "                        <td id=\"T_c3bc3_row5_col1\" class=\"data row5 col1\" >9</td>\n",
       "            </tr>\n",
       "            <tr>\n",
       "                        <th id=\"T_c3bc3_level0_row6\" class=\"row_heading level0 row6\" >6</th>\n",
       "                        <td id=\"T_c3bc3_row6_col0\" class=\"data row6 col0\" >nan</td>\n",
       "                        <td id=\"T_c3bc3_row6_col1\" class=\"data row6 col1\" >10</td>\n",
       "            </tr>\n",
       "    </tbody></table>"
      ],
      "text/plain": [
       "<pandas.io.formats.style.Styler at 0x180641b1b80>"
      ]
     },
     "metadata": {},
     "output_type": "display_data"
    },
    {
     "name": "stdout",
     "output_type": "stream",
     "text": [
      "////////~~~~~~~~~~~~~~~~kaiwen2-3~~~~~~~~~~~~~~~~\\\\\\\\\\\\\\\\\n",
      "The student has been awarded the points,\n",
      "so the dataframes are equal\n",
      "////////~~~~~~~~~~~~~~~~ronggang-1~~~~~~~~~~~~~~~~\\\\\\\\\\\\\\\\\n",
      "The student has been awarded the points,\n",
      "so the dataframes are equal\n",
      "////////~~~~~~~~~~~~~~~~ronggang-2~~~~~~~~~~~~~~~~\\\\\\\\\\\\\\\\\n",
      "The student has been awarded the points,\n",
      "so the dataframes are equal\n",
      "////////~~~~~~~~~~~~~~~~ronggang-3~~~~~~~~~~~~~~~~\\\\\\\\\\\\\\\\\n",
      "The student has been awarded the points,\n",
      "so the dataframes are equal\n",
      "////////~~~~~~~~~~~~~~~~zhengdao-1~~~~~~~~~~~~~~~~\\\\\\\\\\\\\\\\\n",
      "The student has been awarded the points,\n",
      "so the dataframes are equal\n",
      "////////~~~~~~~~~~~~~~~~zhengdao-2~~~~~~~~~~~~~~~~\\\\\\\\\\\\\\\\\n",
      "The student has been awarded the points,\n",
      "so the dataframes are equal\n",
      "////////~~~~~~~~~~~~~~~~zhengdao-3~~~~~~~~~~~~~~~~\\\\\\\\\\\\\\\\\n",
      "The student has been awarded the points,\n",
      "so the dataframes are equal\n",
      "Enter 1 to view the diff of all students\n",
      "Enter 2 to view the diff of a particular student\n",
      "Enter e to quit\n"
     ]
    }
   ],
   "source": [
    "terminal(student_dict=student_dict,answer_dict=answer_dict)"
   ]
  },
  {
   "cell_type": "code",
   "execution_count": null,
   "id": "0598bb08",
   "metadata": {},
   "outputs": [],
   "source": []
  }
 ],
 "metadata": {
  "kernelspec": {
   "display_name": "Python 3",
   "language": "python",
   "name": "python3"
  },
  "language_info": {
   "codemirror_mode": {
    "name": "ipython",
    "version": 3
   },
   "file_extension": ".py",
   "mimetype": "text/x-python",
   "name": "python",
   "nbconvert_exporter": "python",
   "pygments_lexer": "ipython3",
   "version": "3.9.1"
  }
 },
 "nbformat": 4,
 "nbformat_minor": 5
}